{
  "cells": [
    {
      "cell_type": "raw",
      "metadata": {},
      "source": [
        "---\n",
        "title: \"Simple Linear Regression\"\n",
        "author: \"Rhys McAlister\"\n",
        "date: \"2022-09-19\"\n",
        "categories: [news, code, analysis]\n",
        "image: \"image.jpg\"\n",
        "bibliography: references.bib\n",
        "---"
      ],
      "id": "4014cb92"
    },
    {
      "cell_type": "markdown",
      "metadata": {},
      "source": [
        "This is a post with executable code.\n"
      ],
      "id": "441812ca"
    },
    {
      "cell_type": "code",
      "metadata": {},
      "source": [
        "1 + 1"
      ],
      "id": "5a9f6909",
      "execution_count": null,
      "outputs": []
    },
    {
      "cell_type": "markdown",
      "metadata": {},
      "source": [
        "@neininger1998"
      ],
      "id": "ca3bfe7e"
    }
  ],
  "metadata": {
    "kernelspec": {
      "name": "python3",
      "language": "python",
      "display_name": "Python 3 (ipykernel)"
    }
  },
  "nbformat": 4,
  "nbformat_minor": 5
}